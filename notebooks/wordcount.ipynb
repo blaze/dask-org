{
 "cells": [
  {
   "cell_type": "markdown",
   "metadata": {},
   "source": [
    "## Word count with hdfs3, distributed, and dask\n",
    "\n",
    "In this example, we count the number of words in text files (Enron email dataset - 6.4 GB) stored in HDFS.\n",
    "\n",
    "We use the libraries in an increasing order of API functionality, from low-level to high-level:\n",
    "\n",
    "* hdfs3\n",
    "* hdfs3 + distributed\n",
    "* hdfs3 + distributed + dask\n",
    "\n",
    "Setup:\n",
    "\n",
    "```\n",
    "conda install hdfs3 -c blaze\n",
    "pip install dask distributed\n",
    "```\n",
    "\n",
    "TODO: implement proper count by word instead of total word count"
   ]
  },
  {
   "cell_type": "markdown",
   "metadata": {},
   "source": [
    "### Example 1) Word count with hdfs3"
   ]
  },
  {
   "cell_type": "code",
   "execution_count": 1,
   "metadata": {
    "collapsed": true
   },
   "outputs": [],
   "source": [
    "import hdfs3"
   ]
  },
  {
   "cell_type": "code",
   "execution_count": 2,
   "metadata": {
    "collapsed": true
   },
   "outputs": [],
   "source": [
    "hdfs = hdfs3.HDFileSystem('ip-172-31-56-96', port=8020)"
   ]
  },
  {
   "cell_type": "markdown",
   "metadata": {},
   "source": [
    "Generate list of foldernames and filenames in /tmp/enron"
   ]
  },
  {
   "cell_type": "code",
   "execution_count": 3,
   "metadata": {
    "collapsed": false,
    "scrolled": true
   },
   "outputs": [],
   "source": [
    "filenames = hdfs.glob('/tmp/enron/*/*')"
   ]
  },
  {
   "cell_type": "code",
   "execution_count": 4,
   "metadata": {
    "collapsed": false,
    "scrolled": false
   },
   "outputs": [
    {
     "data": {
      "text/plain": [
       "[b'/tmp/enron/edrm-enron-v2_saibi-e_xml.zip/merged.txt',\n",
       " b'/tmp/enron/edrm-enron-v2_baughman-d_xml.zip/merged.txt',\n",
       " b'/tmp/enron/edrm-enron-v2_lavorato-j_xml.zip/merged.txt',\n",
       " b'/tmp/enron/edrm-enron-v2_derrick-j_xml.zip/merged.txt',\n",
       " b'/tmp/enron/edrm-enron-v2_crandall-s_xml.zip/merged.txt']"
      ]
     },
     "execution_count": 4,
     "metadata": {},
     "output_type": "execute_result"
    }
   ],
   "source": [
    "filenames[:5]"
   ]
  },
  {
   "cell_type": "markdown",
   "metadata": {},
   "source": [
    "Print first 500 bytes of first file"
   ]
  },
  {
   "cell_type": "code",
   "execution_count": 7,
   "metadata": {
    "collapsed": false
   },
   "outputs": [
    {
     "ename": "AttributeError",
     "evalue": "'HDFileSystem' object has no attribute 'head'",
     "output_type": "error",
     "traceback": [
      "\u001b[1;31m---------------------------------------------------------------------------\u001b[0m",
      "\u001b[1;31mAttributeError\u001b[0m                            Traceback (most recent call last)",
      "\u001b[1;32m<ipython-input-7-bc5029af978d>\u001b[0m in \u001b[0;36m<module>\u001b[1;34m()\u001b[0m\n\u001b[1;32m----> 1\u001b[1;33m \u001b[0mhdfs\u001b[0m\u001b[1;33m.\u001b[0m\u001b[0mhead\u001b[0m\u001b[1;33m(\u001b[0m\u001b[1;34m'/tmp/enron/edrm-enron-v2_allen-p_xml.zip/merged.txt'\u001b[0m\u001b[1;33m,\u001b[0m \u001b[1;36m500\u001b[0m\u001b[1;33m)\u001b[0m\u001b[1;33m\u001b[0m\u001b[0m\n\u001b[0m",
      "\u001b[1;31mAttributeError\u001b[0m: 'HDFileSystem' object has no attribute 'head'"
     ]
    }
   ],
   "source": [
    "hdfs.head('/tmp/enron/edrm-enron-v2_allen-p_xml.zip/merged.txt', 500)"
   ]
  },
  {
   "cell_type": "code",
   "execution_count": 8,
   "metadata": {
    "collapsed": true
   },
   "outputs": [],
   "source": [
    "def count_words(filename):\n",
    "    with hdfs.open(filename) as f:\n",
    "        count = 0\n",
    "        for line in f.readlines():\n",
    "            words = line.split()\n",
    "            count += len(words)\n",
    "    return count"
   ]
  },
  {
   "cell_type": "markdown",
   "metadata": {},
   "source": [
    "Count words in first file"
   ]
  },
  {
   "cell_type": "code",
   "execution_count": 9,
   "metadata": {
    "collapsed": false,
    "scrolled": true
   },
   "outputs": [
    {
     "name": "stdout",
     "output_type": "stream",
     "text": [
      "CPU times: user 302 ms, sys: 44.3 ms, total: 346 ms\n",
      "Wall time: 351 ms\n"
     ]
    },
    {
     "data": {
      "text/plain": [
       "741115"
      ]
     },
     "execution_count": 9,
     "metadata": {},
     "output_type": "execute_result"
    }
   ],
   "source": [
    "%%time\n",
    "count_words(filenames[0])"
   ]
  },
  {
   "cell_type": "markdown",
   "metadata": {},
   "source": [
    "Count words in all (readable) files"
   ]
  },
  {
   "cell_type": "code",
   "execution_count": 10,
   "metadata": {
    "collapsed": false
   },
   "outputs": [
    {
     "name": "stdout",
     "output_type": "stream",
     "text": [
      "CPU times: user 3min 53s, sys: 14.1 s, total: 4min 7s\n",
      "Wall time: 4min 8s\n"
     ]
    }
   ],
   "source": [
    "%%time\n",
    "wordcounts = {}\n",
    "for filename in filenames:\n",
    "    wordcounts[filename] = count_words(filename)"
   ]
  },
  {
   "cell_type": "code",
   "execution_count": 11,
   "metadata": {
    "collapsed": false
   },
   "outputs": [
    {
     "data": {
      "text/plain": [
       "dict_values([741115, 9568549, 6141444, 8900991, 3271346, 2423343, 639765, 17209969, 1593956, 19767915, 1302676, 0, 1458698, 1778714, 48181070, 1298290, 166803, 3487509, 0, 25683387, 416411, 2675053, 2197147, 8807611, 1502013, 983098, 646054, 551252, 5442101, 5803387, 999658, 1965265, 135598, 0, 1910755, 9991092, 2553089, 1297129, 1297348, 1941178, 0, 309968, 4179474, 6195075, 2697321, 10529060, 4227674, 1599893, 16318646, 712714, 1241517, 2499543, 7490795, 1458891, 748537, 15967056, 640160, 2631204, 3390948, 602964, 17587152, 2993344, 6218398, 0, 3525664, 6742487, 22469610, 2605953, 940679, 1675549, 822513, 10179772, 34052870, 4136274, 3212032, 8287836, 823519, 4819396, 13099510, 4583501, 3798862, 942434, 5416725, 859444, 236457, 1502412, 7843359, 4746897, 2416830, 1287526, 454763, 16250124, 3707412, 31537933, 7120847, 31577075, 1742278, 1077756, 15837004, 8222338, 1082188, 1482969, 31577075, 826188, 2010409, 6019558, 7071963, 2308908, 1386230, 653546, 290147, 0, 3785987, 826083, 4414736, 349008, 3463155, 1214718, 222069, 938864, 58136320, 3684255, 7362820, 1801596, 435733, 5814574, 7559670, 0, 1278606, 2176602, 15243842, 4004621, 11156381, 327610, 3006518, 14617437, 833144, 1787279, 689955, 5736423, 7247270, 13724673, 731657, 0, 1131441, 2714470, 380978, 1907746, 23315302, 1901059, 16318645, 297245, 1405996, 2343243, 6030241, 648040, 3073065, 9174069, 779589, 6272726, 12745492])"
      ]
     },
     "execution_count": 11,
     "metadata": {},
     "output_type": "execute_result"
    }
   ],
   "source": [
    "wordcounts.values()"
   ]
  },
  {
   "cell_type": "code",
   "execution_count": 12,
   "metadata": {
    "collapsed": false
   },
   "outputs": [
    {
     "data": {
      "text/plain": [
       "911246888"
      ]
     },
     "execution_count": 12,
     "metadata": {},
     "output_type": "execute_result"
    }
   ],
   "source": [
    "sum([x for x in wordcounts.values()])"
   ]
  },
  {
   "cell_type": "markdown",
   "metadata": {},
   "source": [
    "Notes and missing API functionality?\n",
    "\n",
    "* ~~wanted to list only filenames (and not other HDFS file info)~~\n",
    "* ~~wanted to load all text files in subdirs (glob like /tmp/enron/*/*.txt)~~\n",
    "* ~~wanted to set encoding in .open() method~~\n",
    "* ~~wanted to easily read .head() of large text file~~\n",
    "* ~~why are the encoding errors happening?~~\n",
    "* why are some word counts zero?\n",
    "* glob returns unordered list"
   ]
  },
  {
   "cell_type": "markdown",
   "metadata": {},
   "source": [
    "### Example 2) Word count with hdfs3 + distributed"
   ]
  },
  {
   "cell_type": "markdown",
   "metadata": {},
   "source": [
    "Start dscheduler and dworkers on nodes:\n",
    "\n",
    "head node: `dscheduler`  \n",
    "compute nodes: `dworker 172.31.56.96:8786`"
   ]
  },
  {
   "cell_type": "code",
   "execution_count": 13,
   "metadata": {
    "collapsed": false
   },
   "outputs": [],
   "source": [
    "from distributed import Executor, progress, wait\n",
    "from distributed.hdfs import read_bytes"
   ]
  },
  {
   "cell_type": "code",
   "execution_count": 14,
   "metadata": {
    "collapsed": false
   },
   "outputs": [],
   "source": [
    "e = Executor('172.31.56.96:8786')"
   ]
  },
  {
   "cell_type": "markdown",
   "metadata": {},
   "source": [
    "Count words in first file"
   ]
  },
  {
   "cell_type": "code",
   "execution_count": 15,
   "metadata": {
    "collapsed": false,
    "scrolled": true
   },
   "outputs": [],
   "source": [
    "future = e.submit(count_words, filenames[0])"
   ]
  },
  {
   "cell_type": "code",
   "execution_count": 16,
   "metadata": {
    "collapsed": false,
    "scrolled": false
   },
   "outputs": [
    {
     "data": {
      "text/plain": [
       "741115"
      ]
     },
     "execution_count": 16,
     "metadata": {},
     "output_type": "execute_result"
    }
   ],
   "source": [
    "future.result()"
   ]
  },
  {
   "cell_type": "markdown",
   "metadata": {},
   "source": [
    "Count words in all (readable) files"
   ]
  },
  {
   "cell_type": "code",
   "execution_count": 17,
   "metadata": {
    "collapsed": false
   },
   "outputs": [],
   "source": [
    "futures = e.map(count_words, filenames)"
   ]
  },
  {
   "cell_type": "code",
   "execution_count": 18,
   "metadata": {
    "collapsed": false
   },
   "outputs": [
    {
     "data": {
      "text/plain": [
       "[<Future: status: finished, key: count_words-cb83eead7442c056080b2d380cbf6157>,\n",
       " <Future: status: pending, key: count_words-50f8866b61cb3204e85e4538579bb1c6>,\n",
       " <Future: status: pending, key: count_words-a47a689665cb2d8438240c9a237398ef>,\n",
       " <Future: status: pending, key: count_words-0e7e10b60233cb232b6c4c8b75b70e15>,\n",
       " <Future: status: pending, key: count_words-d04d4f2512cab8d9a72c0d79e68aceac>]"
      ]
     },
     "execution_count": 18,
     "metadata": {},
     "output_type": "execute_result"
    }
   ],
   "source": [
    "futures[:5]"
   ]
  },
  {
   "cell_type": "code",
   "execution_count": 19,
   "metadata": {
    "collapsed": false,
    "scrolled": true
   },
   "outputs": [
    {
     "name": "stdout",
     "output_type": "stream",
     "text": [
      "CPU times: user 201 ms, sys: 5.52 ms, total: 207 ms\n",
      "Wall time: 1min 30s\n"
     ]
    },
    {
     "data": {
      "text/plain": [
       "DoneAndNotDoneFutures(done={<Future: status: finished, key: count_words-fd055f1276df7859f2da0a5b8051912e>, <Future: status: finished, key: count_words-88fd1d6bee18f82e70fa28d1d06c907b>, <Future: status: finished, key: count_words-d6be01eb81dfb48f1b970c43189dce27>, <Future: status: finished, key: count_words-93ae83824d768da7d304d9822472e318>, <Future: status: finished, key: count_words-57c6d64cb1d60a0e3e7bb11a86067529>, <Future: status: finished, key: count_words-67c5aa9ab2ef95e14fd481717cc74adf>, <Future: status: finished, key: count_words-a4c86790c2ec50cebbbe7cbef79dfe44>, <Future: status: finished, key: count_words-b5127efa1de1509389c31f6f531f5111>, <Future: status: finished, key: count_words-129ffaf7075e51112f4a5be50640611e>, <Future: status: finished, key: count_words-9a7e7ed825b9ff11e83cbb4525ec10f6>, <Future: status: finished, key: count_words-203bead19fa3a1018aba20de0abe106f>, <Future: status: finished, key: count_words-aa37105a87e69397f4a078a31cf84160>, <Future: status: finished, key: count_words-2a67a7ef602f2189436f5a2baf56450e>, <Future: status: finished, key: count_words-75d5d9fbccda62814192d5c8e84020d2>, <Future: status: finished, key: count_words-ef18bb997ef571758ff141188fa8dd8c>, <Future: status: finished, key: count_words-0d3b3f1cfd00b97172c405a27f5adac2>, <Future: status: finished, key: count_words-7f6a6b4495c4bb41a80621dfb2cee9a6>, <Future: status: finished, key: count_words-12bef722bf099834faf08119662689be>, <Future: status: finished, key: count_words-1e1d404cefb774753be7bcd422583671>, <Future: status: finished, key: count_words-926935214ac091a85c3ffea618f78509>, <Future: status: finished, key: count_words-d7a00cc2648b13d01bc6eb8d8b249204>, <Future: status: finished, key: count_words-3cd285bb61a2ffe1301af965e08c76b1>, <Future: status: finished, key: count_words-5bd18a7709e3d8a44883321da335af88>, <Future: status: finished, key: count_words-8ba370e2e7f6254dcaf7a15796e23857>, <Future: status: finished, key: count_words-35f514e6150af1cb6e82a731860d50bd>, <Future: status: finished, key: count_words-120ab861c5381620addee78524cee911>, <Future: status: finished, key: count_words-952770a06abc94e73324b606b119256c>, <Future: status: finished, key: count_words-78f44d8543f652a8364e45b3eade3ebf>, <Future: status: finished, key: count_words-8fb9ac7cb25a0986204f987a065b84be>, <Future: status: finished, key: count_words-89220150183bf4d65dcdd5a8faf240ef>, <Future: status: finished, key: count_words-48576c66c69ff51bba1c4f1bdf8b7d1e>, <Future: status: finished, key: count_words-7ecad32606457f9f4455908fcdd82bd7>, <Future: status: finished, key: count_words-eeefcc83eb866c0fc106bfcce25e28cb>, <Future: status: finished, key: count_words-10461b2e9e248b5c1100053d38e40bc6>, <Future: status: finished, key: count_words-74bf2f9972d2bae085a9a0d5250601db>, <Future: status: finished, key: count_words-5ffec4889c29078db2b4baecca3ce4f7>, <Future: status: finished, key: count_words-a3039be84c732ea996b16caa6b3734bf>, <Future: status: finished, key: count_words-ce94320f5f810fa632c4edff4f0c4a92>, <Future: status: finished, key: count_words-189464ebd481c98b0204008478afe47e>, <Future: status: finished, key: count_words-753d6c967fac324421f3bcc9c6456666>, <Future: status: finished, key: count_words-46815ffb825a0c694a1974bb20269e48>, <Future: status: finished, key: count_words-47dca44ed6f90e0064897c738946a423>, <Future: status: finished, key: count_words-31272e27a6409d8893e7b1c1af426c16>, <Future: status: finished, key: count_words-199f70a69f4af6ba5f1ee4e6cd0eb53a>, <Future: status: finished, key: count_words-34184a5c0c11ab1112bb2c66f180dbb2>, <Future: status: finished, key: count_words-cb83eead7442c056080b2d380cbf6157>, <Future: status: finished, key: count_words-0cb35d9dac039d6e2c9840aaaf402b0a>, <Future: status: finished, key: count_words-a6789ef61c521f136ba26edbcb652a57>, <Future: status: finished, key: count_words-77aae261632cd320311f6cb4e658995d>, <Future: status: finished, key: count_words-50f8866b61cb3204e85e4538579bb1c6>, <Future: status: finished, key: count_words-0e7e10b60233cb232b6c4c8b75b70e15>, <Future: status: finished, key: count_words-9c5c2b8ed11551042f740fe47bdfa7de>, <Future: status: finished, key: count_words-f66ca6639899ea572d3e26a9853d1762>, <Future: status: finished, key: count_words-f96beb11de337f43700a448fb788c7df>, <Future: status: finished, key: count_words-a47a689665cb2d8438240c9a237398ef>, <Future: status: finished, key: count_words-04b7756fb3b0083867e05503debb50a9>, <Future: status: finished, key: count_words-ca090f2021218e5f5bf4e233e01b4514>, <Future: status: finished, key: count_words-ce6dbc37334afaf1cd7b2de0917f7fda>, <Future: status: finished, key: count_words-d04d4f2512cab8d9a72c0d79e68aceac>, <Future: status: finished, key: count_words-9b85dab72e88f4816e299230dcfa9ac2>, <Future: status: finished, key: count_words-5300013c2e765b75aa4a06382d62bcf9>, <Future: status: finished, key: count_words-781309bca01347348de74287342674dc>, <Future: status: finished, key: count_words-9351e6943350206d22e2206abac662a6>, <Future: status: finished, key: count_words-184517895e39d34a8b22f474bbf5b76c>, <Future: status: finished, key: count_words-b6665fe6dd91c53ef6d7c5fbf6cfd030>, <Future: status: finished, key: count_words-966ec5c8788aa5d0442578eb5e174b9e>, <Future: status: finished, key: count_words-76d380139852c9007b5b22c45f6fb76f>, <Future: status: finished, key: count_words-30e8750e5ecbc4ef805767a4d0993c7b>, <Future: status: finished, key: count_words-8f0bec8c775336f394821f3b76a7272e>, <Future: status: finished, key: count_words-9acc2b270fd1a54568b65ffbefe5e490>, <Future: status: finished, key: count_words-2e252f6741504e38355d10e6c04cb7d6>, <Future: status: finished, key: count_words-87aff5c2bb11be3a8889be3355a7aaae>, <Future: status: finished, key: count_words-7df22537ee36b29601d40d91f09140f3>, <Future: status: finished, key: count_words-b487dc1a349028202f5919d7865f9b24>, <Future: status: finished, key: count_words-ac18870b454942814b15c1decb3c6c61>, <Future: status: finished, key: count_words-665679384bf336deaa9703a1cd3fb626>, <Future: status: finished, key: count_words-8eb4628716fe548f6a697f97aee932aa>, <Future: status: finished, key: count_words-81c6e4adf3c8dec0cc2c72322d6c917c>, <Future: status: finished, key: count_words-08dc27c20b63b7ce8b78faaed540e61d>, <Future: status: finished, key: count_words-4ba9d67f09b9f2e3964173f9f1eaaace>, <Future: status: finished, key: count_words-a7982139ee76fc75f37712796203efbd>, <Future: status: finished, key: count_words-426b7588ad77c73d972e30f30ae2f476>, <Future: status: finished, key: count_words-2ff7f9b6b2e67d38bc27341c5cccd414>, <Future: status: finished, key: count_words-ec6604a646623515886f086172526e8c>, <Future: status: finished, key: count_words-7dfbe75a240c1b330df4e8de0bb77c9e>, <Future: status: finished, key: count_words-1a78388d341e6fe21f4abaefbf037775>, <Future: status: finished, key: count_words-21227622f45eafe0d85af85ed2032f73>, <Future: status: finished, key: count_words-09a607983e3ed9961400a3ffa65a6c16>, <Future: status: finished, key: count_words-7de3843f4451ed939e3e662e69be7e1f>, <Future: status: finished, key: count_words-36e599ed90d88f796d273376583bcc87>, <Future: status: finished, key: count_words-e8c63560e81289fdc38a9bf0e6cb4402>, <Future: status: finished, key: count_words-68bc0a1ebcbfa2d172374ffe11a11076>, <Future: status: finished, key: count_words-b09d11ba23113561a228a739a6f93ed9>, <Future: status: finished, key: count_words-5f4d23f01204ac0434f6d015aa3d67c2>, <Future: status: finished, key: count_words-6e850a6643b483c24166238ed33da7c4>, <Future: status: finished, key: count_words-6807d24c21c7791b08da3ce9cc6dfa44>, <Future: status: finished, key: count_words-f9982921c1bd9fe0aa3ad69774eefd92>, <Future: status: finished, key: count_words-2ef40c7f9fa3c902f4980eba5ea30333>, <Future: status: finished, key: count_words-d692744c398c59269fbb165b67c3be33>, <Future: status: finished, key: count_words-b0fc8ce2835c8550054d62ec4d793ccd>, <Future: status: finished, key: count_words-f69e6892d6dcd554698e8d714ca90d33>, <Future: status: finished, key: count_words-8ed5f0f17d292618d7b7b98cef7a13ad>, <Future: status: finished, key: count_words-a6f85f2aea72596ef72bfe2e3f56914d>, <Future: status: finished, key: count_words-842b12a39500bfbffe8a9fd8394fe79a>, <Future: status: finished, key: count_words-f61d33f9399ade580996e2ec93424288>, <Future: status: finished, key: count_words-870f9b0bddaa29108100ea50ad5890b9>, <Future: status: finished, key: count_words-944bf1c8999ee9ecd74bc2900c12a4fe>, <Future: status: finished, key: count_words-4319b7a00b5a1b323b9aa065e5ba9a23>, <Future: status: finished, key: count_words-63110194514d6eabfd85228349200d25>, <Future: status: finished, key: count_words-94a40e7bf4ee90ba800d094dff531885>, <Future: status: finished, key: count_words-40cb987a727b3685f8bb74add5982b8c>, <Future: status: finished, key: count_words-8a516077ea4a8ef29df745e49029d3e8>, <Future: status: finished, key: count_words-bf950ae771e324af6156fac36cc65f72>, <Future: status: finished, key: count_words-f3807b4d9b47fe45a01d9e606f372db0>, <Future: status: finished, key: count_words-f642ba164fd02e688b0684fbaa58c27b>, <Future: status: finished, key: count_words-d8a2b780a78b17ac3d0175fde8ca7167>, <Future: status: finished, key: count_words-735f984b7ce03738bf3a8ec580d16b14>, <Future: status: finished, key: count_words-5ace58fcbc49650189cd87f568f11684>, <Future: status: finished, key: count_words-29ff653eddb67afc450647155c553258>, <Future: status: finished, key: count_words-d463b4237c3ed159526143f904714349>, <Future: status: finished, key: count_words-c5c8e8c9a2343eab510369c066a0477d>, <Future: status: finished, key: count_words-7ebb19d4796257a39bb7d7c0d6f33e65>, <Future: status: finished, key: count_words-c24ec1fd499d9d7011397c8eab2c4f5f>, <Future: status: finished, key: count_words-124457a77f506c3bc084f0088c943508>, <Future: status: finished, key: count_words-30f8ced48336b2375dc910f9ee95619a>, <Future: status: finished, key: count_words-3220e06de4d2d44f0269a01b85c2e556>, <Future: status: finished, key: count_words-19d9f5c670a90a7b5a130cf7426ae76f>, <Future: status: finished, key: count_words-4b1e1faf738608838055a29550556e45>, <Future: status: finished, key: count_words-a6534fdca460abbf468fa88a346be377>, <Future: status: finished, key: count_words-576c148cc0a50cd1d1b87c261402fc19>, <Future: status: finished, key: count_words-e1f9a3012cb3c401e31063fe9058efbb>, <Future: status: finished, key: count_words-c1e429bc85b75c83c4a1d43e1f2152c6>, <Future: status: finished, key: count_words-0ed10cf5c837fc8d9e9b593dd8eab6cf>, <Future: status: finished, key: count_words-e0a55b12842e0aee6dbe08d208dc8e0f>, <Future: status: finished, key: count_words-27b3979e58a83d7e2919cc5879b5fdf6>, <Future: status: finished, key: count_words-eee98b6308d1fa1cfb71096a14969a86>, <Future: status: finished, key: count_words-e7ab1b4be6998d95597bb3f2fbe38d10>, <Future: status: finished, key: count_words-f447368d7426a226d2b6158b69098815>, <Future: status: finished, key: count_words-e4c58506247d1d1a80691cfd83192503>, <Future: status: finished, key: count_words-9c9d579957c70cee5524fcb967d00dbe>, <Future: status: finished, key: count_words-d9c94287cb576866f463860e41385f25>, <Future: status: finished, key: count_words-240b0b5518a589160b7feef3fca9c040>, <Future: status: finished, key: count_words-d4acd529f452435cd68c9a388402809b>, <Future: status: finished, key: count_words-18c01f5679d317d2edd57ea60685f6a1>, <Future: status: finished, key: count_words-cc4279f994aeb0abc9aad4eb35807733>, <Future: status: finished, key: count_words-4d61d758612719b411e8a2c7f0ebe78e>, <Future: status: finished, key: count_words-ff983c2cdcf9770b1cd587749f2e00b7>, <Future: status: finished, key: count_words-73efc96b11ba880625caebe048c91482>, <Future: status: finished, key: count_words-6481ff9a31234e636f3096685548e987>, <Future: status: finished, key: count_words-310990c84811e8688c68335defac3600>, <Future: status: finished, key: count_words-0d3d60bad31d7617dc97f6d615486865>, <Future: status: finished, key: count_words-2113ebe1f11859a9a2d1b61434c354f9>, <Future: status: finished, key: count_words-5a75002b2e4c9926f5fafa821790fa46>, <Future: status: finished, key: count_words-59d263ccf6ffd239ec7f0436aacb73e7>, <Future: status: finished, key: count_words-7e641ac2c8f219a1f2043bb16337d1b0>, <Future: status: finished, key: count_words-def49f845e94a604aef56d873b6e678f>, <Future: status: finished, key: count_words-5ffb3c7dab341b69d0c1ec633128b98b>, <Future: status: finished, key: count_words-881e4f8c3d68334d89ce36c88b68ace4>, <Future: status: finished, key: count_words-83a8b70ea67a978b3010908ce91f9f86>, <Future: status: finished, key: count_words-1adec270236bbca69eaec68e1d88a19c>, <Future: status: finished, key: count_words-ea4af07bd05d93d0e09fc40fb72e80f1>}, not_done=set())"
      ]
     },
     "execution_count": 19,
     "metadata": {},
     "output_type": "execute_result"
    }
   ],
   "source": [
    "%%time\n",
    "wait(futures);"
   ]
  },
  {
   "cell_type": "code",
   "execution_count": 20,
   "metadata": {
    "collapsed": false,
    "scrolled": true
   },
   "outputs": [
    {
     "data": {
      "text/plain": [
       "[<Future: status: finished, key: count_words-cb83eead7442c056080b2d380cbf6157>,\n",
       " <Future: status: finished, key: count_words-50f8866b61cb3204e85e4538579bb1c6>,\n",
       " <Future: status: finished, key: count_words-a47a689665cb2d8438240c9a237398ef>,\n",
       " <Future: status: finished, key: count_words-0e7e10b60233cb232b6c4c8b75b70e15>,\n",
       " <Future: status: finished, key: count_words-d04d4f2512cab8d9a72c0d79e68aceac>]"
      ]
     },
     "execution_count": 20,
     "metadata": {},
     "output_type": "execute_result"
    }
   ],
   "source": [
    "futures[:5]"
   ]
  },
  {
   "cell_type": "code",
   "execution_count": 21,
   "metadata": {
    "collapsed": false
   },
   "outputs": [
    {
     "data": {
      "text/plain": [
       "741115"
      ]
     },
     "execution_count": 21,
     "metadata": {},
     "output_type": "execute_result"
    }
   ],
   "source": [
    "futures[0].result()"
   ]
  },
  {
   "cell_type": "code",
   "execution_count": 22,
   "metadata": {
    "collapsed": false
   },
   "outputs": [
    {
     "data": {
      "text/plain": [
       "911246888"
      ]
     },
     "execution_count": 22,
     "metadata": {},
     "output_type": "execute_result"
    }
   ],
   "source": [
    "sum(e.gather(futures))"
   ]
  },
  {
   "cell_type": "markdown",
   "metadata": {},
   "source": [
    "Notes and missing API functionality?\n",
    "\n",
    "* ~~how to view number of workers/cores?~~\n",
    "* ~~wanted to easily read .head() of large text file~~\n",
    "* ~~can I pass arguments to functions in e.map(func, input)?~~\n",
    "* ~~can I get the results of futures without a list comprehension, similar to an RDD?~~\n",
    "* ~~why are the encoding errors happnening?~~\n",
    "* ~~should blocking futures be default with an option to wait()?~~\n",
    "* ~~when to use readbytes, BytesIO, etc.~~\n",
    "* ~~are these errors from dscheduler important? https://gist.github.com/koverholt/6c0f9c10b23152c3f0c4~~\n",
    "* option to drop failed futures?"
   ]
  },
  {
   "cell_type": "markdown",
   "metadata": {},
   "source": [
    "### Example 3) Word count with hdfs3 + distributed + dask"
   ]
  },
  {
   "cell_type": "code",
   "execution_count": 23,
   "metadata": {
    "collapsed": false
   },
   "outputs": [],
   "source": [
    "from distributed.hdfs import read_bytes\n",
    "from distributed.collections import futures_to_collection"
   ]
  },
  {
   "cell_type": "code",
   "execution_count": 24,
   "metadata": {
    "collapsed": false
   },
   "outputs": [],
   "source": [
    "bytes = read_bytes('/tmp/enron/*/*', hdfs=hdfs, delimiter=b'\\r\\n')"
   ]
  },
  {
   "cell_type": "code",
   "execution_count": 25,
   "metadata": {
    "collapsed": false
   },
   "outputs": [
    {
     "data": {
      "text/plain": [
       "[<Future: status: pending, key: read_block-e069a953fedbf56df977a77171e205e5>,\n",
       " <Future: status: pending, key: read_block-b90671f599480b883ed1f4967927bdc6>,\n",
       " <Future: status: pending, key: read_block-4baea76d420ed00c8dc86698cf71161f>,\n",
       " <Future: status: pending, key: read_block-6cd548dbda5a00717e1f40cf22558d75>,\n",
       " <Future: status: pending, key: read_block-cf643bb93a1fa4b1a3b8572625bbe469>]"
      ]
     },
     "execution_count": 25,
     "metadata": {},
     "output_type": "execute_result"
    }
   ],
   "source": [
    "bytes[:5]"
   ]
  },
  {
   "cell_type": "code",
   "execution_count": 26,
   "metadata": {
    "collapsed": true
   },
   "outputs": [],
   "source": [
    "def bytes_to_lines(b):\n",
    "    return b.decode().split('\\n')"
   ]
  },
  {
   "cell_type": "code",
   "execution_count": 27,
   "metadata": {
    "collapsed": true
   },
   "outputs": [],
   "source": [
    "lists = e.map(bytes_to_lines, bytes)"
   ]
  },
  {
   "cell_type": "code",
   "execution_count": 28,
   "metadata": {
    "collapsed": false,
    "scrolled": false
   },
   "outputs": [
    {
     "name": "stdout",
     "output_type": "stream",
     "text": [
      "Setting global dask scheduler to use distributed\n",
      "CPU times: user 77.7 ms, sys: 7.08 ms, total: 84.8 ms\n",
      "Wall time: 21.4 s\n"
     ]
    }
   ],
   "source": [
    "%%time\n",
    "db = futures_to_collection(lists)"
   ]
  },
  {
   "cell_type": "code",
   "execution_count": 29,
   "metadata": {
    "collapsed": true
   },
   "outputs": [],
   "source": [
    "def count_words_in_bytes(data):\n",
    "    words = data.split()\n",
    "    count = len(words)\n",
    "    return count"
   ]
  },
  {
   "cell_type": "code",
   "execution_count": 30,
   "metadata": {
    "collapsed": false,
    "scrolled": true
   },
   "outputs": [],
   "source": [
    "word_counts = db.map(count_words_in_bytes)"
   ]
  },
  {
   "cell_type": "code",
   "execution_count": 31,
   "metadata": {
    "collapsed": false
   },
   "outputs": [
    {
     "name": "stdout",
     "output_type": "stream",
     "text": [
      "CPU times: user 292 ms, sys: 14.6 ms, total: 307 ms\n",
      "Wall time: 1min 41s\n"
     ]
    },
    {
     "data": {
      "text/plain": [
       "913806111"
      ]
     },
     "execution_count": 31,
     "metadata": {},
     "output_type": "execute_result"
    }
   ],
   "source": [
    "%%time\n",
    "word_counts.sum().compute()"
   ]
  },
  {
   "cell_type": "markdown",
   "metadata": {},
   "source": [
    "Notes and missing API functionality?\n",
    "\n",
    "* readbytes reads everything into memory vs. lazy execution?\n",
    "* wanted to easily read .head() of large text file\n",
    "* different word count than hdfs3 + distributed, perhaps due to line splitting\n",
    "* solution was a bit more complex than hdfs3 + distributed"
   ]
  },
  {
   "cell_type": "markdown",
   "metadata": {},
   "source": [
    "### PySpark API\n",
    "\n",
    "```\n",
    ">>> rdd = sc.textFile('/tmp/enron/*/*.txt')\n",
    ">>> counts = rdd.flatMap(lambda line: line.split()).count()\n",
    "...\n",
    "16/02/02 07:01:47 INFO DAGScheduler: ResultStage 0 (count at <stdin>:1) finished in 76.110 s\n",
    "16/02/02 07:01:47 INFO YarnScheduler: Removed TaskSet 0.0, whose tasks have all completed, from pool\n",
    "16/02/02 07:01:47 INFO DAGScheduler: Job 0 finished: count at <stdin>:1, took 76.307768 s\n",
    ">>> counts\n",
    "913806131\n",
    "```"
   ]
  },
  {
   "cell_type": "markdown",
   "metadata": {},
   "source": [
    "### Results\n",
    "\n",
    "Time to count words in all files:\n",
    "\n",
    "* hdfs3 - 4 min 8 s\n",
    "* hdfs3 + distributed - 1 min 30 s\n",
    "* hdfs3 + distributed + dask - 2 min 2 s\n",
    "* PySpark - 1 min 16 s"
   ]
  }
 ],
 "metadata": {
  "kernelspec": {
   "display_name": "Python 3",
   "language": "python",
   "name": "python3"
  },
  "language_info": {
   "codemirror_mode": {
    "name": "ipython",
    "version": 3
   },
   "file_extension": ".py",
   "mimetype": "text/x-python",
   "name": "python",
   "nbconvert_exporter": "python",
   "pygments_lexer": "ipython3",
   "version": "3.5.1"
  }
 },
 "nbformat": 4,
 "nbformat_minor": 0
}

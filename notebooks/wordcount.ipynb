{
 "cells": [
  {
   "cell_type": "markdown",
   "metadata": {},
   "source": [
    "## Word count with hdfs3, distributed, and dask\n",
    "\n",
    "In this example, we count the number of words in text files (Enron email dataset - 6.4 GB) stored in HDFS.\n",
    "\n",
    "We use the libraries in an increasing order of API functionality, from low-level to high-level:\n",
    "\n",
    "* hdfs3\n",
    "* hdfs3 + distributed\n",
    "* hdfs3 + distributed + dask\n",
    "\n",
    "Setup:\n",
    "\n",
    "```\n",
    "conda install hdfs3 -c blaze\n",
    "pip install dask distributed\n",
    "```"
   ]
  },
  {
   "cell_type": "markdown",
   "metadata": {},
   "source": [
    "### Example 1) Word count with hdfs3"
   ]
  },
  {
   "cell_type": "code",
   "execution_count": 1,
   "metadata": {
    "collapsed": true
   },
   "outputs": [],
   "source": [
    "import hdfs3"
   ]
  },
  {
   "cell_type": "code",
   "execution_count": 2,
   "metadata": {
    "collapsed": true
   },
   "outputs": [],
   "source": [
    "hdfs = hdfs3.HDFileSystem('ip-172-31-56-96', port=8020)"
   ]
  },
  {
   "cell_type": "markdown",
   "metadata": {},
   "source": [
    "Generate list of foldernames and filenames in /tmp/enron"
   ]
  },
  {
   "cell_type": "code",
   "execution_count": 3,
   "metadata": {
    "collapsed": false
   },
   "outputs": [],
   "source": [
    "dirnames = [x['name'] for x in hdfs.ls('/tmp/enron')]"
   ]
  },
  {
   "cell_type": "code",
   "execution_count": 4,
   "metadata": {
    "collapsed": false,
    "scrolled": false
   },
   "outputs": [
    {
     "data": {
      "text/plain": [
       "[b'/tmp/enron/edrm-enron-v2_allen-p_xml.zip',\n",
       " b'/tmp/enron/edrm-enron-v2_arnold-j_xml.zip',\n",
       " b'/tmp/enron/edrm-enron-v2_arora-h_xml.zip',\n",
       " b'/tmp/enron/edrm-enron-v2_badeer-r_xml.zip',\n",
       " b'/tmp/enron/edrm-enron-v2_bailey-s_xml.zip']"
      ]
     },
     "execution_count": 4,
     "metadata": {},
     "output_type": "execute_result"
    }
   ],
   "source": [
    "dirnames[:5]"
   ]
  },
  {
   "cell_type": "code",
   "execution_count": 5,
   "metadata": {
    "collapsed": false
   },
   "outputs": [],
   "source": [
    "filenames = [x.decode('utf-8') + '/merged.txt' for x in dirnames]"
   ]
  },
  {
   "cell_type": "code",
   "execution_count": 6,
   "metadata": {
    "collapsed": false
   },
   "outputs": [
    {
     "data": {
      "text/plain": [
       "['/tmp/enron/edrm-enron-v2_allen-p_xml.zip/merged.txt',\n",
       " '/tmp/enron/edrm-enron-v2_arnold-j_xml.zip/merged.txt',\n",
       " '/tmp/enron/edrm-enron-v2_arora-h_xml.zip/merged.txt',\n",
       " '/tmp/enron/edrm-enron-v2_badeer-r_xml.zip/merged.txt',\n",
       " '/tmp/enron/edrm-enron-v2_bailey-s_xml.zip/merged.txt']"
      ]
     },
     "execution_count": 6,
     "metadata": {},
     "output_type": "execute_result"
    }
   ],
   "source": [
    "filenames[:5]"
   ]
  },
  {
   "cell_type": "markdown",
   "metadata": {},
   "source": [
    "Print first 10 lines of first file"
   ]
  },
  {
   "cell_type": "code",
   "execution_count": 7,
   "metadata": {
    "collapsed": false
   },
   "outputs": [
    {
     "name": "stdout",
     "output_type": "stream",
     "text": [
      "Date: Tue, 26 Sep 2000 09:26:00 -0700 (PDT)\r\n",
      "From: Phillip K Allen\r\n",
      "To: pallen70@hotmail.com\r\n",
      "Subject: Investment Structure\r\n",
      "X-SDOC: 948896\r\n",
      "X-ZLID: zl-edrm-enron-v2-allen-p-1713.eml\r\n",
      "\r\n",
      "---------------------- Forwarded by Phillip K Allen/HOU/ECT on 09/26/2000 \r\n",
      "04:26 PM ---------------------------\r\n",
      "\r\n"
     ]
    }
   ],
   "source": [
    "with hdfs.open(filenames[0]) as f:\n",
    "    f.encoding = 'utf-8'\n",
    "    [print(f.readline()) for i in range(10)]"
   ]
  },
  {
   "cell_type": "code",
   "execution_count": 8,
   "metadata": {
    "collapsed": true
   },
   "outputs": [],
   "source": [
    "def count_words(filename, encoding='utf-8'):\n",
    "    with hdfs.open(filename) as f:\n",
    "        f.encoding = encoding\n",
    "        count = 0\n",
    "        all_lines = f.readlines()\n",
    "        for line in all_lines:\n",
    "            words = line.split()\n",
    "            count += len(words)\n",
    "    return count"
   ]
  },
  {
   "cell_type": "markdown",
   "metadata": {},
   "source": [
    "Count words in first file"
   ]
  },
  {
   "cell_type": "code",
   "execution_count": 9,
   "metadata": {
    "collapsed": false,
    "scrolled": true
   },
   "outputs": [
    {
     "name": "stdout",
     "output_type": "stream",
     "text": [
      "CPU times: user 3.25 s, sys: 151 ms, total: 3.4 s\n",
      "Wall time: 3.41 s\n"
     ]
    },
    {
     "data": {
      "text/plain": [
       "13099980"
      ]
     },
     "execution_count": 9,
     "metadata": {},
     "output_type": "execute_result"
    }
   ],
   "source": [
    "%%time\n",
    "count_words('/tmp/enron/edrm-enron-v2_allen-p_xml.zip/merged.txt')"
   ]
  },
  {
   "cell_type": "markdown",
   "metadata": {},
   "source": [
    "Count words in all (readable) files"
   ]
  },
  {
   "cell_type": "code",
   "execution_count": 10,
   "metadata": {
    "collapsed": false
   },
   "outputs": [
    {
     "name": "stdout",
     "output_type": "stream",
     "text": [
      "CPU times: user 1min 52s, sys: 7.95 s, total: 1min 59s\n",
      "Wall time: 2min\n"
     ]
    }
   ],
   "source": [
    "%%time\n",
    "wordcounts = {}\n",
    "for filename in filenames:\n",
    "    try:\n",
    "        wordcounts[filename] = count_words(filename)\n",
    "    except UnicodeDecodeError:\n",
    "        wordcounts[filename] = 'Encoding error'"
   ]
  },
  {
   "cell_type": "code",
   "execution_count": 11,
   "metadata": {
    "collapsed": false
   },
   "outputs": [
    {
     "data": {
      "text/plain": [
       "dict_values([640160, 712714, 602964, 833143, 435731, 4179444, 7071894, 2010407, 'Encoding error', 'Encoding error', 0, 290147, 1502415, 10528904, 5736422, 'Encoding error', 'Encoding error', 'Encoding error', 0, 'Encoding error', 'Encoding error', 1778714, 8222368, 'Encoding error', 5803416, 'Encoding error', 'Encoding error', 'Encoding error', 3463107, 416404, 6019540, 5814482, 'Encoding error', 4746877, 551252, 1082150, 'Encoding error', 10179741, 'Encoding error', 1302679, 1298290, 'Encoding error', 6218404, 690003, 779589, 653546, 'Encoding error', 0, 'Encoding error', 1907746, 3006520, 741113, 'Encoding error', 648040, 2423343, 3073065, 1482517, 4004560, 1386230, 3271284, 859418, 13099980, 'Encoding error', 'Encoding error', 0, 'Encoding error', 'Encoding error', 7247270, 'Encoding error', 822377, 'Encoding error', 'Encoding error', 1965278, 1941178, 'Encoding error', 2552968, 'Encoding error', 15836636, 'Encoding error', 4227672, 'Encoding error', 2176585, 2674950, 25683415, 1675517, 135598, 826188, 0, 'Encoding error', 1241517, 'Encoding error', 'Encoding error', 3212038, 'Encoding error', 'Encoding error', 349008, 'Encoding error', 'Encoding error', 'Encoding error', 0, 1297348, 1214718, 'Encoding error', 34052622, 1787279, 1130924, 'Encoding error', 9978422, 2309593, 'Encoding error', 'Encoding error', 5445575, 'Encoding error', 940670, 3798929, 3390924, 'Encoding error', 1287530, 1077750, 1405998, 6195025, 999658, 7490781, 'Encoding error', 'Encoding error', 454763, 'Encoding error', 942422, 1599893, 3787166, 380978, 3487505, 732104, 1296974, 'Encoding error', 2993343, 'Encoding error', 'Encoding error', 13706115, 983216, 222069, 4414609, 2605960, 6141434, 646054, 0, 0, 2198541, 1901115, 'Encoding error', 'Encoding error', 'Encoding error', 'Encoding error', 748549, 8287835, 236457, 17209358, 'Encoding error', 327602, 1910725, 639765])"
      ]
     },
     "execution_count": 11,
     "metadata": {},
     "output_type": "execute_result"
    }
   ],
   "source": [
    "wordcounts.values()"
   ]
  },
  {
   "cell_type": "code",
   "execution_count": 12,
   "metadata": {
    "collapsed": false
   },
   "outputs": [
    {
     "data": {
      "text/plain": [
       "363695216"
      ]
     },
     "execution_count": 12,
     "metadata": {},
     "output_type": "execute_result"
    }
   ],
   "source": [
    "sum([x for x in wordcounts.values() if isinstance(x, int)])"
   ]
  },
  {
   "cell_type": "markdown",
   "metadata": {},
   "source": [
    "Notes and missing API functionality?\n",
    "\n",
    "* wanted to list only filenames (and not other HDFS file info)\n",
    "* wanted to load all text files in subdirs (glob like /tmp/enron/*/*.txt)\n",
    "* wanted to set encoding in .open() method\n",
    "* wanted to easily read .head() of large text file\n",
    "* why are the encoding errors happening?"
   ]
  },
  {
   "cell_type": "markdown",
   "metadata": {},
   "source": [
    "### Example 2) Word count with hdfs3 + distributed"
   ]
  },
  {
   "cell_type": "markdown",
   "metadata": {},
   "source": [
    "Start dscheduler and dworkers on nodes:\n",
    "\n",
    "head node: `dscheduler`  \n",
    "compute nodes: `dworker 172.31.56.96:8786`"
   ]
  },
  {
   "cell_type": "code",
   "execution_count": 13,
   "metadata": {
    "collapsed": false
   },
   "outputs": [],
   "source": [
    "from distributed import Executor, progress, wait\n",
    "from distributed.hdfs import read_bytes"
   ]
  },
  {
   "cell_type": "code",
   "execution_count": 14,
   "metadata": {
    "collapsed": true
   },
   "outputs": [],
   "source": [
    "e = Executor('172.31.56.96:8786')"
   ]
  },
  {
   "cell_type": "markdown",
   "metadata": {},
   "source": [
    "Count words in first file"
   ]
  },
  {
   "cell_type": "code",
   "execution_count": 15,
   "metadata": {
    "collapsed": false,
    "scrolled": true
   },
   "outputs": [],
   "source": [
    "future = e.submit(count_words, filenames[0])"
   ]
  },
  {
   "cell_type": "code",
   "execution_count": 16,
   "metadata": {
    "collapsed": false,
    "scrolled": false
   },
   "outputs": [
    {
     "data": {
      "text/plain": [
       "13099980"
      ]
     },
     "execution_count": 16,
     "metadata": {},
     "output_type": "execute_result"
    }
   ],
   "source": [
    "future.result()"
   ]
  },
  {
   "cell_type": "markdown",
   "metadata": {},
   "source": [
    "Count words in all (readable) files"
   ]
  },
  {
   "cell_type": "code",
   "execution_count": 17,
   "metadata": {
    "collapsed": false
   },
   "outputs": [],
   "source": [
    "futures = e.map(count_words, filenames)"
   ]
  },
  {
   "cell_type": "code",
   "execution_count": 18,
   "metadata": {
    "collapsed": false
   },
   "outputs": [
    {
     "data": {
      "text/plain": [
       "[<Future: status: finished, key: count_words-0696b727ed79bbdc95af11308fd018fc>,\n",
       " <Future: status: pending, key: count_words-621dba1d10f2901372bf24aef5a44c7e>,\n",
       " <Future: status: pending, key: count_words-8ef6b1892ae3de359533a49728bea212>,\n",
       " <Future: status: pending, key: count_words-6d30174ae9ee86144e7bead2240779a7>,\n",
       " <Future: status: pending, key: count_words-4c40f687aa80a2fc393cd38afcdfda4a>]"
      ]
     },
     "execution_count": 18,
     "metadata": {},
     "output_type": "execute_result"
    }
   ],
   "source": [
    "futures[:5]"
   ]
  },
  {
   "cell_type": "code",
   "execution_count": 19,
   "metadata": {
    "collapsed": false
   },
   "outputs": [
    {
     "name": "stdout",
     "output_type": "stream",
     "text": [
      "CPU times: user 135 ms, sys: 13 ms, total: 148 ms\n",
      "Wall time: 38.6 s\n"
     ]
    },
    {
     "data": {
      "text/plain": [
       "DoneAndNotDoneFutures(done={<Future: status: finished, key: count_words-8f30d393a3b0a36b83957fa8fc96686c>, <Future: status: finished, key: count_words-33d171fa945361245b189a9cc6d0990f>, <Future: status: error, key: count_words-6e21fea982141fac5f363cb0e1a0e242>, <Future: status: finished, key: count_words-09cc0fc684cf36eb82d0724666084308>, <Future: status: finished, key: count_words-22a79f763c1f44831d0d3455ef8392b9>, <Future: status: finished, key: count_words-a56400e54d74de7d73bfad7e7eeb994f>, <Future: status: finished, key: count_words-406d8bcd564ccc4a5c1a68b0e98bbfd5>, <Future: status: error, key: count_words-c396552589dbfb20e603dc8d1d542a3b>, <Future: status: error, key: count_words-103a44e7e120b8e4d28ddea9f860567c>, <Future: status: finished, key: count_words-150f1d81a105319fb2104a6b6184530f>, <Future: status: finished, key: count_words-88da8ef50f494136634b03921d510714>, <Future: status: error, key: count_words-ff8f8db94fc110d8b69ddb4857f63438>, <Future: status: error, key: count_words-fab7a3bd5cfc56af242ef972e2a61cba>, <Future: status: error, key: count_words-395c5d3426f50635747bfcf9d5d3bd38>, <Future: status: finished, key: count_words-f50b0aa83d62ac5a552fbb24a7fe0ea3>, <Future: status: finished, key: count_words-522a4b281a5f97ea1b5a430fa8ad0400>, <Future: status: finished, key: count_words-ea44bdc4531ffe8c091d401fda1fa8c5>, <Future: status: finished, key: count_words-868e66168ec3848e86c1315d30d28865>, <Future: status: error, key: count_words-ad8153be4caa3fb31bd5489de448bfe8>, <Future: status: error, key: count_words-a6b2b4c0591ff1a520e3ee398bb16bfa>, <Future: status: error, key: count_words-5b3519856cfa9599ff257ed059a4a088>, <Future: status: finished, key: count_words-ade20452fc8adf60dd5b90fd95d2f7bc>, <Future: status: finished, key: count_words-7be340b17890d5e04672b7026223b961>, <Future: status: finished, key: count_words-81a944c1fb4b07dbc245c45a5ea4babc>, <Future: status: finished, key: count_words-a3e0b012e543975bd3145c4779b79e08>, <Future: status: finished, key: count_words-301cca2252a6fe9d73f4e328ff00d108>, <Future: status: error, key: count_words-993ad2e4700bb03c839a041620921786>, <Future: status: finished, key: count_words-915aa9431ddc02f252f2f8cf84a82428>, <Future: status: finished, key: count_words-0696b727ed79bbdc95af11308fd018fc>, <Future: status: finished, key: count_words-556ffbd17e274cf3be1452f25e71f50e>, <Future: status: error, key: count_words-2a7107b11abc953f43874d84a9f29340>, <Future: status: error, key: count_words-2bd304a4807bc14d57ced6df23cfcc93>, <Future: status: finished, key: count_words-894b3e5b48c77676ed7e37dd09ed169a>, <Future: status: finished, key: count_words-11d15a81b9a8f54b8d7301064e49ed23>, <Future: status: finished, key: count_words-82e52eeeb1f908804686d4d31185c192>, <Future: status: error, key: count_words-fad6355285ae06e2a604aab5b60b4d0d>, <Future: status: finished, key: count_words-a4183de81bf87bdf5d635970cc1d913c>, <Future: status: finished, key: count_words-f69d50999fe3bf78e2be35541ba73733>, <Future: status: finished, key: count_words-eeede185716d6e6156fe7e69ddd9d82b>, <Future: status: finished, key: count_words-ff8a52f3ccbcb7645c4b8939973ce8c1>, <Future: status: finished, key: count_words-03bbde170c41527cb57d30119dc50081>, <Future: status: finished, key: count_words-f18a0f01f86141cd097a2433b19a91ae>, <Future: status: finished, key: count_words-f53890a98e0e47dc8d0bf8d81665d629>, <Future: status: finished, key: count_words-30f3f744b4625dafec4e9965d6a2b754>, <Future: status: finished, key: count_words-851532ab283739b6341f136090731c15>, <Future: status: finished, key: count_words-410cc3d0f52b9b1d66cac9f0d180006f>, <Future: status: finished, key: count_words-2ee25ba5c505932f8d4268f55d2cc0dd>, <Future: status: finished, key: count_words-482437c0a35d4e66700873e1701589b8>, <Future: status: finished, key: count_words-87c4f34736ecfd3a09d1890d3151cdae>, <Future: status: finished, key: count_words-c7890396c5bc9d6e16859055ba0171c7>, <Future: status: finished, key: count_words-6c377514762e9a7b61c7eb6a34cff76a>, <Future: status: error, key: count_words-8e5e2cd4866165bf62311c7c1ecc9d4e>, <Future: status: error, key: count_words-120776b1ba1d09938e17f817dcdb3d60>, <Future: status: finished, key: count_words-79107cd8308ca11a3070ae06a0b9052d>, <Future: status: finished, key: count_words-a0cdb9f21f082875b4c479d7093617cd>, <Future: status: finished, key: count_words-9786353707ca22807e08c68fca8fed41>, <Future: status: error, key: count_words-d36b25b1e3691b689afd27fc0211625c>, <Future: status: finished, key: count_words-621dba1d10f2901372bf24aef5a44c7e>, <Future: status: finished, key: count_words-d5c763c6c8a44c18738caacf601ba58f>, <Future: status: error, key: count_words-44e16a0aaf32e35bedb0bf0edeb16aff>, <Future: status: error, key: count_words-492247c3783144cf20da35389e852172>, <Future: status: error, key: count_words-84cae53d2db694284d45bf2a462ba89c>, <Future: status: finished, key: count_words-d5a42955b951192a2e8110ade6054761>, <Future: status: finished, key: count_words-6b32766dfd5d5593245182d36599213d>, <Future: status: finished, key: count_words-486472b5b2269b225fc95615312a56e7>, <Future: status: finished, key: count_words-01fbd8867e0606a0b99aba8f9784e6cd>, <Future: status: finished, key: count_words-d7c76a3cc3acf991252d4006dcc40b70>, <Future: status: error, key: count_words-57060a5bbcddf04c76a011a7250446e0>, <Future: status: error, key: count_words-f45300921e020f4a2d58b9c86ade37e9>, <Future: status: finished, key: count_words-b46a487e962520f7a1562cad5c309562>, <Future: status: error, key: count_words-ef9d54079f384b311bcc5486442e76bd>, <Future: status: error, key: count_words-b7517325f8ad00ac885fefe5a0d38ae6>, <Future: status: error, key: count_words-3ed6de5c0629a62a6269c265d81c9fa5>, <Future: status: error, key: count_words-15c58b5dfb71fec38dcfd528a819be07>, <Future: status: error, key: count_words-d62653836224c08936f91df4b5cab0c5>, <Future: status: finished, key: count_words-4f7decb262366eea0995b717025913b0>, <Future: status: finished, key: count_words-d028f0bc4d5922186fd1de31a514d9bc>, <Future: status: error, key: count_words-f81bb22bcdb00a0751ce4501f7fc60da>, <Future: status: error, key: count_words-fede5e116b6bb2693c5484db36e4409b>, <Future: status: finished, key: count_words-b91036261e49f137b57e38cbe41852e0>, <Future: status: error, key: count_words-fc0e1ae5c034948b94418a73e8a563b3>, <Future: status: finished, key: count_words-1ea437be5298ea5228a00f74fd17b8c1>, <Future: status: error, key: count_words-cd5597eef98e005544cf4c5bfc347680>, <Future: status: finished, key: count_words-11abf5488d502f63c625b67cd3f62d6f>, <Future: status: finished, key: count_words-59c8869f879856e5092304f9e508dffa>, <Future: status: finished, key: count_words-92069c08de43daed39133a172fb5f115>, <Future: status: finished, key: count_words-a19050b1ce01a21effcf119a14f07d86>, <Future: status: finished, key: count_words-dbcc478e1d3d05c2c19c19d8657ce875>, <Future: status: error, key: count_words-fbc1fa43a28fefc36b67adcfbed4a705>, <Future: status: finished, key: count_words-5650fe85f1e65897b302370b066cbf31>, <Future: status: error, key: count_words-852cd9cb08e1079cc0541de5f000ea87>, <Future: status: error, key: count_words-d527ec69026dc206c0c5254a33c8207b>, <Future: status: finished, key: count_words-a5c9901fbaee25d661fbda502d810e32>, <Future: status: finished, key: count_words-38c0568375f66c0f30325eec276940a7>, <Future: status: error, key: count_words-72f72bb30d3a6635de60752433cccafd>, <Future: status: error, key: count_words-8ef6b1892ae3de359533a49728bea212>, <Future: status: finished, key: count_words-32a138c9a76f5bfda77b942abe42ca15>, <Future: status: finished, key: count_words-8c59142f0bf963a2ad493366328c88c2>, <Future: status: finished, key: count_words-da022c19a1bcf0df8e0be60391e5ea90>, <Future: status: finished, key: count_words-a9c1297c90f2d3c47c3b50538eadb008>, <Future: status: finished, key: count_words-7a6a5c44baf1730ae7700f4b656d0386>, <Future: status: error, key: count_words-ef800507525e97554f6019285ed182ed>, <Future: status: finished, key: count_words-32f8589e42bcd86a278dff91571909d4>, <Future: status: error, key: count_words-970f5f2c596a7e29daab3d6a85905ab6>, <Future: status: finished, key: count_words-4258aa0ec5ae4ee5b1cc02089e9d34b4>, <Future: status: finished, key: count_words-94cd4a948afc4345504f82146fb501dd>, <Future: status: error, key: count_words-616123fbe8b5e1e459476390750e85c5>, <Future: status: finished, key: count_words-169953cde4d892f9a8977de91b10f291>, <Future: status: finished, key: count_words-a43484fce5362bd05f6aabfa3e41431c>, <Future: status: error, key: count_words-aaa34c0d91a9607b706c4fc529bb16e5>, <Future: status: error, key: count_words-55b8d4fc3868806f1ce360cbff782173>, <Future: status: error, key: count_words-93075bce6d30629b65585111b496dafb>, <Future: status: finished, key: count_words-105559a4bf2d60cc47cde5d06404b180>, <Future: status: finished, key: count_words-c4fad2397917a983214fa8614565a83e>, <Future: status: finished, key: count_words-ef5f022ffb986a42f8d42a327020d3a2>, <Future: status: error, key: count_words-3433cad99674868725e7c3cc5e7acd24>, <Future: status: finished, key: count_words-974ee1ce1ab5a251ba9f5cf599ee2c96>, <Future: status: finished, key: count_words-3327e91ed1f2ccadb3aed89421107c10>, <Future: status: error, key: count_words-9765a08c29e3066a02fe4c9e58a5e4e9>, <Future: status: finished, key: count_words-c0ccf837d197f144cdb180684fc306a1>, <Future: status: finished, key: count_words-54175fc1629bdde5e939fc791b2b360a>, <Future: status: finished, key: count_words-905af89a981da38004de455d207648f5>, <Future: status: finished, key: count_words-3588fc723e591435773805578949ef93>, <Future: status: finished, key: count_words-a934683d522c4ddc59748a0914316125>, <Future: status: finished, key: count_words-cc0e8340dae29db8f12d7aece6cce354>, <Future: status: error, key: count_words-784cd9537465c75147acba432a35138d>, <Future: status: finished, key: count_words-99e4d6de56db3f112c6c0752b826d532>, <Future: status: error, key: count_words-6d30174ae9ee86144e7bead2240779a7>, <Future: status: finished, key: count_words-5420fd3a36dd4b25c37b6b67a3da604d>, <Future: status: finished, key: count_words-53de0781bcfc1367c6a54fcf15fb4f40>, <Future: status: finished, key: count_words-51000547aaa7f94f501a9ca38f052d6d>, <Future: status: finished, key: count_words-4c40f687aa80a2fc393cd38afcdfda4a>, <Future: status: finished, key: count_words-eebec5dbab19bc9833065a45608b8882>, <Future: status: finished, key: count_words-230d8b3f81722e124b74aa25f8e81885>, <Future: status: finished, key: count_words-6a9d4e13e5f837330895127b0c907df0>, <Future: status: finished, key: count_words-95133463b87c1c4c0519b8785a5654be>, <Future: status: finished, key: count_words-24c0c5e3b2f66cc0ea831132807532dc>, <Future: status: finished, key: count_words-10daee1adbf61197de79d2c2cba7fe0b>, <Future: status: error, key: count_words-0afce4636055436f10d40b372a728fb3>, <Future: status: finished, key: count_words-71703f331b916f5a3108a0ced0487b8d>, <Future: status: finished, key: count_words-a23c52ec92afddf052c715d0dd201e78>, <Future: status: finished, key: count_words-aa28acb825650a2afba68e281dfe88e2>, <Future: status: finished, key: count_words-99c350c3352e13a736f5a5236543faed>, <Future: status: error, key: count_words-9d81cf5265b6e334065957a8c8e1cfc8>, <Future: status: error, key: count_words-f6bf43dd400bdffe80cb916248d6219c>, <Future: status: finished, key: count_words-b6bf24678103f5e417a99c82accd4f3f>, <Future: status: error, key: count_words-9632c2a4b940b210201c1554d6164fa4>, <Future: status: finished, key: count_words-5a05a42247eb477514811d81a2322187>, <Future: status: finished, key: count_words-7d6cb3f60542532091afb423dff5689e>, <Future: status: finished, key: count_words-3156fde1e58763e3fba3866d2274043b>, <Future: status: error, key: count_words-2962a0debfa05ef2fa346b967cc7c66a>, <Future: status: finished, key: count_words-eca461270d0660f50301741a3cc06e66>, <Future: status: finished, key: count_words-abac56ff91630c999c091ab849ec133e>, <Future: status: finished, key: count_words-32dd5641d7a2f79c21df07adf7736049>, <Future: status: error, key: count_words-cce15d508ed7f998e32e0bb790985e48>, <Future: status: error, key: count_words-ce7b1af9f98b9ebc8ce0eed9fcabf2e6>, <Future: status: finished, key: count_words-4f4e4145faf040bb7375b8225f671b5d>, <Future: status: finished, key: count_words-71da775102fae82f4629dc62eb49b24a>, <Future: status: error, key: count_words-a7a8047411b04ed56b26c97a294f4d11>, <Future: status: error, key: count_words-198b3c694d55c2fdd57579648a2eb864>, <Future: status: finished, key: count_words-1697d4670d4e1246d25d68bee7d6a948>}, not_done=set())"
      ]
     },
     "execution_count": 19,
     "metadata": {},
     "output_type": "execute_result"
    }
   ],
   "source": [
    "%%time\n",
    "wait(futures);"
   ]
  },
  {
   "cell_type": "code",
   "execution_count": 20,
   "metadata": {
    "collapsed": false
   },
   "outputs": [],
   "source": [
    "# Some of the tasks fail due to utf-8 formatting errors, we ignore the failed tasks\n",
    "futures_success = [x for x in futures if x.status == 'finished']"
   ]
  },
  {
   "cell_type": "code",
   "execution_count": 21,
   "metadata": {
    "collapsed": false,
    "scrolled": true
   },
   "outputs": [
    {
     "data": {
      "text/plain": [
       "[<Future: status: finished, key: count_words-0696b727ed79bbdc95af11308fd018fc>,\n",
       " <Future: status: finished, key: count_words-621dba1d10f2901372bf24aef5a44c7e>,\n",
       " <Future: status: finished, key: count_words-4c40f687aa80a2fc393cd38afcdfda4a>,\n",
       " <Future: status: finished, key: count_words-a3e0b012e543975bd3145c4779b79e08>,\n",
       " <Future: status: finished, key: count_words-eeede185716d6e6156fe7e69ddd9d82b>]"
      ]
     },
     "execution_count": 21,
     "metadata": {},
     "output_type": "execute_result"
    }
   ],
   "source": [
    "futures_success[:5]"
   ]
  },
  {
   "cell_type": "code",
   "execution_count": 22,
   "metadata": {
    "collapsed": false
   },
   "outputs": [
    {
     "data": {
      "text/plain": [
       "13099980"
      ]
     },
     "execution_count": 22,
     "metadata": {},
     "output_type": "execute_result"
    }
   ],
   "source": [
    "futures_success[0].result()"
   ]
  },
  {
   "cell_type": "code",
   "execution_count": 23,
   "metadata": {
    "collapsed": false
   },
   "outputs": [
    {
     "data": {
      "text/plain": [
       "363695216"
      ]
     },
     "execution_count": 23,
     "metadata": {},
     "output_type": "execute_result"
    }
   ],
   "source": [
    "sum([x.result() for x in futures_success])"
   ]
  },
  {
   "cell_type": "markdown",
   "metadata": {},
   "source": [
    "Notes and missing API functionality?\n",
    "\n",
    "* how to view number of workers/cores?\n",
    "* wanted to easily read .head() of large text file\n",
    "* can I pass arguments to functions in e.map(func, input)?\n",
    "* can I get the results of futures without a list comprehension, similar to an RDD?\n",
    "* why are the encoding errors happnening?\n",
    "* should blocking futures be default with an option to wait()?\n",
    "* are these errors from dscheduler important? https://gist.github.com/koverholt/6c0f9c10b23152c3f0c4"
   ]
  },
  {
   "cell_type": "markdown",
   "metadata": {},
   "source": [
    "### Example 3) Word count with hdfs3 + distributed + dask"
   ]
  },
  {
   "cell_type": "code",
   "execution_count": 24,
   "metadata": {
    "collapsed": true
   },
   "outputs": [],
   "source": [
    "import dask"
   ]
  },
  {
   "cell_type": "markdown",
   "metadata": {},
   "source": [
    "Notes and missing API functionality?\n",
    "\n",
    "* wanted to easily read .head() of large text file\n",
    "* need a futures_to_bag"
   ]
  },
  {
   "cell_type": "markdown",
   "metadata": {},
   "source": [
    "### Results\n",
    "\n",
    "Time to count words in all files:\n",
    "\n",
    "* hdfs3 - 120 seconds\n",
    "* hdfs3 + distributed - 39 seconds\n",
    "* hdfs3 + distributed + dask - "
   ]
  }
 ],
 "metadata": {
  "kernelspec": {
   "display_name": "Python 3",
   "language": "python",
   "name": "python3"
  },
  "language_info": {
   "codemirror_mode": {
    "name": "ipython",
    "version": 3
   },
   "file_extension": ".py",
   "mimetype": "text/x-python",
   "name": "python",
   "nbconvert_exporter": "python",
   "pygments_lexer": "ipython3",
   "version": "3.5.1"
  }
 },
 "nbformat": 4,
 "nbformat_minor": 0
}

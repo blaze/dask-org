{
 "cells": [
  {
   "cell_type": "markdown",
   "metadata": {},
   "source": [
    "## Word count with hdfs3, distributed, and dask\n",
    "\n",
    "In this example, we count the number of words in text files (Enron email dataset - 6.4 GB) stored in HDFS.\n",
    "\n",
    "We use the libraries in an increasing order of API functionality, from low-level to high-level:\n",
    "\n",
    "* hdfs3\n",
    "* hdfs3 + distributed\n",
    "* hdfs3 + distributed + dask\n",
    "\n",
    "Setup:\n",
    "\n",
    "```\n",
    "conda install hdfs3 -c blaze\n",
    "pip install dask distributed\n",
    "```"
   ]
  },
  {
   "cell_type": "markdown",
   "metadata": {},
   "source": [
    "### Example 1) Word count with hdfs3"
   ]
  },
  {
   "cell_type": "code",
   "execution_count": 1,
   "metadata": {
    "collapsed": true
   },
   "outputs": [],
   "source": [
    "import hdfs3"
   ]
  },
  {
   "cell_type": "code",
   "execution_count": 2,
   "metadata": {
    "collapsed": true
   },
   "outputs": [],
   "source": [
    "hdfs = hdfs3.HDFileSystem('ip-172-31-56-96', port=8020)"
   ]
  },
  {
   "cell_type": "markdown",
   "metadata": {},
   "source": [
    "Generate list of foldernames and filenames in /tmp/enron"
   ]
  },
  {
   "cell_type": "code",
   "execution_count": 3,
   "metadata": {
    "collapsed": false
   },
   "outputs": [],
   "source": [
    "dirnames = [x['name'] for x in hdfs.ls('/tmp/enron')]"
   ]
  },
  {
   "cell_type": "code",
   "execution_count": 4,
   "metadata": {
    "collapsed": false,
    "scrolled": false
   },
   "outputs": [
    {
     "data": {
      "text/plain": [
       "[b'/tmp/enron/edrm-enron-v2_allen-p_xml.zip',\n",
       " b'/tmp/enron/edrm-enron-v2_arnold-j_xml.zip',\n",
       " b'/tmp/enron/edrm-enron-v2_arora-h_xml.zip',\n",
       " b'/tmp/enron/edrm-enron-v2_badeer-r_xml.zip',\n",
       " b'/tmp/enron/edrm-enron-v2_bailey-s_xml.zip']"
      ]
     },
     "execution_count": 4,
     "metadata": {},
     "output_type": "execute_result"
    }
   ],
   "source": [
    "dirnames[:5]"
   ]
  },
  {
   "cell_type": "code",
   "execution_count": 5,
   "metadata": {
    "collapsed": false
   },
   "outputs": [],
   "source": [
    "filenames = [x.decode('utf-8') + '/merged.txt' for x in dirnames]"
   ]
  },
  {
   "cell_type": "code",
   "execution_count": 6,
   "metadata": {
    "collapsed": false
   },
   "outputs": [
    {
     "data": {
      "text/plain": [
       "['/tmp/enron/edrm-enron-v2_allen-p_xml.zip/merged.txt',\n",
       " '/tmp/enron/edrm-enron-v2_arnold-j_xml.zip/merged.txt',\n",
       " '/tmp/enron/edrm-enron-v2_arora-h_xml.zip/merged.txt',\n",
       " '/tmp/enron/edrm-enron-v2_badeer-r_xml.zip/merged.txt',\n",
       " '/tmp/enron/edrm-enron-v2_bailey-s_xml.zip/merged.txt']"
      ]
     },
     "execution_count": 6,
     "metadata": {},
     "output_type": "execute_result"
    }
   ],
   "source": [
    "filenames[:5]"
   ]
  },
  {
   "cell_type": "markdown",
   "metadata": {},
   "source": [
    "Print first 10 lines of first file"
   ]
  },
  {
   "cell_type": "code",
   "execution_count": 7,
   "metadata": {
    "collapsed": false
   },
   "outputs": [
    {
     "name": "stdout",
     "output_type": "stream",
     "text": [
      "Date: Tue, 26 Sep 2000 09:26:00 -0700 (PDT)\r\n",
      "From: Phillip K Allen\r\n",
      "To: pallen70@hotmail.com\r\n",
      "Subject: Investment Structure\r\n",
      "X-SDOC: 948896\r\n",
      "X-ZLID: zl-edrm-enron-v2-allen-p-1713.eml\r\n",
      "\r\n",
      "---------------------- Forwarded by Phillip K Allen/HOU/ECT on 09/26/2000 \r\n",
      "04:26 PM ---------------------------\r\n",
      "\r\n"
     ]
    }
   ],
   "source": [
    "with hdfs.open(filenames[0]) as f:\n",
    "    f.encoding = 'utf-8'\n",
    "    [print(f.readline()) for i in range(10)]"
   ]
  },
  {
   "cell_type": "code",
   "execution_count": 8,
   "metadata": {
    "collapsed": true
   },
   "outputs": [],
   "source": [
    "def count_words(filename, encoding='utf-8'):\n",
    "    with hdfs.open(filename) as f:\n",
    "        f.encoding = encoding\n",
    "        count = 0\n",
    "        all_lines = f.readlines()\n",
    "        for line in all_lines:\n",
    "            words = line.split()\n",
    "            count += len(words)\n",
    "    return count"
   ]
  },
  {
   "cell_type": "markdown",
   "metadata": {},
   "source": [
    "Count words in first file"
   ]
  },
  {
   "cell_type": "code",
   "execution_count": 9,
   "metadata": {
    "collapsed": false,
    "scrolled": true
   },
   "outputs": [
    {
     "name": "stdout",
     "output_type": "stream",
     "text": [
      "CPU times: user 3.3 s, sys: 183 ms, total: 3.48 s\n",
      "Wall time: 3.49 s\n"
     ]
    },
    {
     "data": {
      "text/plain": [
       "13099980"
      ]
     },
     "execution_count": 9,
     "metadata": {},
     "output_type": "execute_result"
    }
   ],
   "source": [
    "%%time\n",
    "count_words('/tmp/enron/edrm-enron-v2_allen-p_xml.zip/merged.txt')"
   ]
  },
  {
   "cell_type": "markdown",
   "metadata": {},
   "source": [
    "Count words in all (readable) files"
   ]
  },
  {
   "cell_type": "code",
   "execution_count": 10,
   "metadata": {
    "collapsed": false
   },
   "outputs": [
    {
     "name": "stdout",
     "output_type": "stream",
     "text": [
      "CPU times: user 1min 53s, sys: 8.42 s, total: 2min 1s\n",
      "Wall time: 2min 2s\n"
     ]
    }
   ],
   "source": [
    "%%time\n",
    "wordcounts = {}\n",
    "for filename in filenames:\n",
    "    try:\n",
    "        wordcounts[filename] = count_words(filename)\n",
    "    except UnicodeDecodeError:\n",
    "        wordcounts[filename] = 'Encoding error'"
   ]
  },
  {
   "cell_type": "code",
   "execution_count": 11,
   "metadata": {
    "collapsed": false
   },
   "outputs": [
    {
     "data": {
      "text/plain": [
       "dict_values([15836636, 'Encoding error', 'Encoding error', 826188, 3487505, 7071894, 1482517, 'Encoding error', 1296974, 'Encoding error', 1241517, 34052622, 'Encoding error', 1298290, 1901115, 551252, 'Encoding error', 3073065, 'Encoding error', 'Encoding error', 646054, 2993343, 'Encoding error', 3212038, 4227672, 'Encoding error', 'Encoding error', 1502415, 1778714, 349008, 0, 236457, 748549, 2674950, 'Encoding error', 4004560, 'Encoding error', 'Encoding error', 7490781, 'Encoding error', 2605960, 859418, 'Encoding error', 1675517, 5445575, 17209358, 'Encoding error', 1082150, 25683415, 454763, 0, 'Encoding error', 'Encoding error', 'Encoding error', 5803416, 3390924, 416404, 8287835, 'Encoding error', 'Encoding error', 'Encoding error', 2010407, 'Encoding error', 653546, 222069, 5814482, 'Encoding error', 602964, 9978422, 732104, 940670, 5736422, 1405998, 6019540, 327602, 'Encoding error', 942422, 741113, 1302679, 0, 7247270, 'Encoding error', 13099980, 'Encoding error', 13706115, 1214718, 690003, 290147, 6195025, 3798929, 'Encoding error', 1386230, 'Encoding error', 4746877, 'Encoding error', 1297348, 'Encoding error', 1965278, 135598, 3271284, 2176585, 2423343, 1787279, 648040, 8222368, 'Encoding error', 'Encoding error', 'Encoding error', 435731, 779589, 1077750, 0, 'Encoding error', 'Encoding error', 4179444, 822377, 2552968, 0, 1287530, 'Encoding error', 'Encoding error', 'Encoding error', 712714, 639765, 'Encoding error', 3006520, 'Encoding error', 3463107, 0, 983216, 'Encoding error', 'Encoding error', 'Encoding error', 2309593, 1907746, 999658, 'Encoding error', 'Encoding error', 10528904, 3787166, 10179741, 'Encoding error', 380978, 'Encoding error', 'Encoding error', 0, 'Encoding error', 0, 1910725, 6218404, 1941178, 640160, 6141434, 'Encoding error', 'Encoding error', 1130924, 1599893, 833143, 4414609, 2198541, 'Encoding error'])"
      ]
     },
     "execution_count": 11,
     "metadata": {},
     "output_type": "execute_result"
    }
   ],
   "source": [
    "wordcounts.values()"
   ]
  },
  {
   "cell_type": "code",
   "execution_count": 12,
   "metadata": {
    "collapsed": false
   },
   "outputs": [
    {
     "data": {
      "text/plain": [
       "363695216"
      ]
     },
     "execution_count": 12,
     "metadata": {},
     "output_type": "execute_result"
    }
   ],
   "source": [
    "sum([x for x in wordcounts.values() if isinstance(x, int)])"
   ]
  },
  {
   "cell_type": "markdown",
   "metadata": {},
   "source": [
    "Notes and missing API functionality?\n",
    "\n",
    "* wanted to list only filenames (and not other HDFS file info)\n",
    "* wanted to load all text files in subdirs (glob like /tmp/enron/*/*.txt)\n",
    "* wanted to set encoding in .open() method\n",
    "* wanted to easily read .head() of large text file\n",
    "* why are the encoding errors happening?\n",
    "* why are some word counts zero?"
   ]
  },
  {
   "cell_type": "markdown",
   "metadata": {},
   "source": [
    "### Example 2) Word count with hdfs3 + distributed"
   ]
  },
  {
   "cell_type": "markdown",
   "metadata": {},
   "source": [
    "Start dscheduler and dworkers on nodes:\n",
    "\n",
    "head node: `dscheduler`  \n",
    "compute nodes: `dworker 172.31.56.96:8786`"
   ]
  },
  {
   "cell_type": "code",
   "execution_count": 13,
   "metadata": {
    "collapsed": false
   },
   "outputs": [],
   "source": [
    "from distributed import Executor, progress, wait\n",
    "from distributed.hdfs import read_bytes"
   ]
  },
  {
   "cell_type": "code",
   "execution_count": 14,
   "metadata": {
    "collapsed": false
   },
   "outputs": [],
   "source": [
    "e = Executor('172.31.56.96:8786')"
   ]
  },
  {
   "cell_type": "markdown",
   "metadata": {},
   "source": [
    "Count words in first file"
   ]
  },
  {
   "cell_type": "code",
   "execution_count": 15,
   "metadata": {
    "collapsed": false,
    "scrolled": true
   },
   "outputs": [],
   "source": [
    "future = e.submit(count_words, filenames[0])"
   ]
  },
  {
   "cell_type": "code",
   "execution_count": 16,
   "metadata": {
    "collapsed": false,
    "scrolled": false
   },
   "outputs": [
    {
     "data": {
      "text/plain": [
       "13099980"
      ]
     },
     "execution_count": 16,
     "metadata": {},
     "output_type": "execute_result"
    }
   ],
   "source": [
    "future.result()"
   ]
  },
  {
   "cell_type": "markdown",
   "metadata": {},
   "source": [
    "Count words in all (readable) files"
   ]
  },
  {
   "cell_type": "code",
   "execution_count": 17,
   "metadata": {
    "collapsed": false
   },
   "outputs": [],
   "source": [
    "futures = e.map(count_words, filenames)"
   ]
  },
  {
   "cell_type": "code",
   "execution_count": 18,
   "metadata": {
    "collapsed": false
   },
   "outputs": [
    {
     "data": {
      "text/plain": [
       "[<Future: status: finished, key: count_words-bd731296fd7be686e9f2aa39d4e55b13>,\n",
       " <Future: status: pending, key: count_words-092e034e73e859cdd6b3318853257e1c>,\n",
       " <Future: status: pending, key: count_words-d57a35bd921b22c3d7dc5b7557a0b9ff>,\n",
       " <Future: status: pending, key: count_words-35c292d5690de86d25da24b4828ef306>,\n",
       " <Future: status: pending, key: count_words-afc75889580ce64dd0bafef7e4bd9d78>]"
      ]
     },
     "execution_count": 18,
     "metadata": {},
     "output_type": "execute_result"
    }
   ],
   "source": [
    "futures[:5]"
   ]
  },
  {
   "cell_type": "code",
   "execution_count": 19,
   "metadata": {
    "collapsed": false
   },
   "outputs": [
    {
     "name": "stdout",
     "output_type": "stream",
     "text": [
      "CPU times: user 136 ms, sys: 13.9 ms, total: 150 ms\n",
      "Wall time: 42.4 s\n"
     ]
    },
    {
     "data": {
      "text/plain": [
       "DoneAndNotDoneFutures(done={<Future: status: finished, key: count_words-c2e14215bfa7ae8d5a8585777e71f64c>, <Future: status: finished, key: count_words-5471ef08686e7a526ec9f644d47047ad>, <Future: status: error, key: count_words-5294eafbc4a49823a9c74bcf7c90fa97>, <Future: status: finished, key: count_words-cb852603ce94b8c4eeb7e7b667e0283a>, <Future: status: finished, key: count_words-db42ce3e0b8fea60612053c00c090a11>, <Future: status: error, key: count_words-e5cacef389b5881b14680045bfa1b89a>, <Future: status: error, key: count_words-81dfa05b33ee5ae1fc05af2b7b77e62f>, <Future: status: finished, key: count_words-2fc64e386ff2d6b88baf5e084cb260d6>, <Future: status: finished, key: count_words-0d7de3b16b6ef3dd26b51632d4300883>, <Future: status: error, key: count_words-56d455d3e683ebeab55a473ac132e7c7>, <Future: status: error, key: count_words-4fe87556fde72271f709f1ce9b6c5b37>, <Future: status: error, key: count_words-f14ed610161016676958a2e762fe6741>, <Future: status: finished, key: count_words-49aad32dad0e4d694f79b7062cc344c2>, <Future: status: error, key: count_words-8ca56ee6c97d35ddb7a81510ec6f1925>, <Future: status: finished, key: count_words-131ff9ffb8530bfde7c79cad61e2cce5>, <Future: status: finished, key: count_words-45c4e6ac907488e80842af41e82a6151>, <Future: status: finished, key: count_words-d2a87f2aa2979719985d9ea89250ec7f>, <Future: status: error, key: count_words-0ccebe5fd38e0b95cdfcaca751c9cd28>, <Future: status: error, key: count_words-9a54f1bcd724309f3092d45dab632747>, <Future: status: error, key: count_words-a58d6898b21eaa67aa96fcdef27f67ca>, <Future: status: finished, key: count_words-f49111c157431781040742dc93e78195>, <Future: status: finished, key: count_words-33670a4e6317ce257d1585d135c2cf5a>, <Future: status: error, key: count_words-eb2e6f6fa220a8f2b621d87056fec86e>, <Future: status: finished, key: count_words-11752f7c13138e4b32e856931ffcd744>, <Future: status: finished, key: count_words-c18651beda5ea5647856ce0c23003acf>, <Future: status: finished, key: count_words-57230db336014c28c74a11ea08138cc7>, <Future: status: finished, key: count_words-950f9dd7adc7ad044828a412cd477654>, <Future: status: finished, key: count_words-8bf9e58b70bfc7b51a623949a9ba10bc>, <Future: status: finished, key: count_words-1d8dcac6980129f23f94e5e79c067677>, <Future: status: error, key: count_words-630c4d05e29959f3122bf9f24872249b>, <Future: status: finished, key: count_words-9e3145146b5a0fee9b741ac15e26261f>, <Future: status: error, key: count_words-1d4f59d11e3f5ff8703aeef15eb99e18>, <Future: status: finished, key: count_words-e511c5b9ab2954b916b19233c57c3a58>, <Future: status: finished, key: count_words-a4ae70581908099cdf5d466a0e0dd3b9>, <Future: status: finished, key: count_words-3b186c86a8f29c66980a955d76c61f4d>, <Future: status: error, key: count_words-1116301b92013b6ce83f39a55eecf770>, <Future: status: error, key: count_words-4188fcc7cba099051d853530973ed93c>, <Future: status: error, key: count_words-038190c42d06e776bf4050338d10300d>, <Future: status: finished, key: count_words-3a14dfb57d30b60eda6fb75c6167b556>, <Future: status: error, key: count_words-6d2bfc813596299ead893da996d182dc>, <Future: status: error, key: count_words-f9cdfc0b8993f49bdefb4d22619887f2>, <Future: status: finished, key: count_words-7db9d58b3e7a2da5c12db23ea8d9ae1f>, <Future: status: finished, key: count_words-c12642e426426bb3d9d26c63da7a377a>, <Future: status: finished, key: count_words-156c271f79d8d23294f4ff5f60176562>, <Future: status: finished, key: count_words-97cf36fb98d16ef10291e4358bcc822a>, <Future: status: finished, key: count_words-bee99b40068c2b010760941d36cb1329>, <Future: status: finished, key: count_words-09fe494ec16c6288d530ebad04c1e0c1>, <Future: status: error, key: count_words-263702d31531b4b5ca8dbe70fea7d3b4>, <Future: status: finished, key: count_words-18067862dae472933c0d4ccf1f4caa32>, <Future: status: finished, key: count_words-dba948a37282190f54c4f50e5038d9d0>, <Future: status: finished, key: count_words-caf1ba3448cb92c6cb79f36f5d75f1da>, <Future: status: finished, key: count_words-f7ca259b8838d441202662e451581665>, <Future: status: finished, key: count_words-a12594deaa042c9751ba5c269942b835>, <Future: status: finished, key: count_words-a98cc41cad1484432eccbc66f59f770d>, <Future: status: finished, key: count_words-12d6589e5b10fd5121d14cb0e7db09b3>, <Future: status: finished, key: count_words-5f4f68aacc1c70c53c355e56b964da34>, <Future: status: finished, key: count_words-daa4d213f948915e9e8877c9b8f1f07b>, <Future: status: finished, key: count_words-3ea129bcc1db6915c241d48ff8dbf187>, <Future: status: finished, key: count_words-b80b4b36e7f80ea27c7038c1b174e93b>, <Future: status: finished, key: count_words-195d2a66244524a1c78301fb428030a9>, <Future: status: error, key: count_words-b6724574cf7dea2df7e894102a223957>, <Future: status: finished, key: count_words-72b3bb2e1912596aae9095ba9a99fc6e>, <Future: status: finished, key: count_words-0bdecae9b52a476168e5171cb1ed8594>, <Future: status: finished, key: count_words-d11b18ffc16a33f5215e2b1926bfb28e>, <Future: status: finished, key: count_words-03ee1b5985ca25efbc74d53783d8eb83>, <Future: status: error, key: count_words-c4ce0871b918add8451deec54708a37a>, <Future: status: finished, key: count_words-09aaf12004c673b12142c46ab1453b6e>, <Future: status: error, key: count_words-ebb8b6190b6b9af6a10e799d7c39753c>, <Future: status: finished, key: count_words-55002ebde5c222526bc8a58880303c93>, <Future: status: finished, key: count_words-c3a54fd1098f0a891bde3a3263ae4acc>, <Future: status: error, key: count_words-c64625420fd413b25cb5f1f1f797e025>, <Future: status: finished, key: count_words-3ddff28bcaaf4d9f56397da9c2ddb444>, <Future: status: finished, key: count_words-037d600b94067acc53e971f778d35284>, <Future: status: error, key: count_words-1693e4d3d59f2a416a24b8d41e545ceb>, <Future: status: error, key: count_words-9701e95bb035861efe7dcfa66adbfd8a>, <Future: status: finished, key: count_words-38dd2fec05d2787c78f0d597d1f7510b>, <Future: status: error, key: count_words-d0d6f4b6ea86482b0aea0f864a294149>, <Future: status: error, key: count_words-c679ea033feccee2ac32f2d086c47d6c>, <Future: status: finished, key: count_words-fc4af895da9db13b845acb9a7bbfd439>, <Future: status: finished, key: count_words-ae6e0c942a8d2076a884272167cb520c>, <Future: status: finished, key: count_words-6cf58e3d3d8a84ed9a73e1d47266346b>, <Future: status: finished, key: count_words-bd731296fd7be686e9f2aa39d4e55b13>, <Future: status: finished, key: count_words-fcb051784882aa5b31d7850b635b0384>, <Future: status: finished, key: count_words-84665293d8e977ee932b3b257fc3668a>, <Future: status: error, key: count_words-51c2dd53eba2f77ef3c7b844f93ccf6b>, <Future: status: error, key: count_words-3f0057eacf99023ecbb73a22e18b57b6>, <Future: status: error, key: count_words-af327baa9581bfc74971df55a2289d1e>, <Future: status: error, key: count_words-dec9f89c19a4ebd0d57a839360fe9b23>, <Future: status: finished, key: count_words-b962d0f028512377458db5d9a7b3ea23>, <Future: status: finished, key: count_words-cb483c1526d32e6eab468cd3818cee7b>, <Future: status: finished, key: count_words-0465a4220f5cbda0a8846de57c72fab7>, <Future: status: finished, key: count_words-5521087b57711a76be30d10fd4c0e970>, <Future: status: finished, key: count_words-3ef030b7d9fb97bc8025843b9ffd090c>, <Future: status: error, key: count_words-51ecdfe3e766a945dcaf90bf0ce41650>, <Future: status: finished, key: count_words-4e53fed380f246491519365d925f50b7>, <Future: status: finished, key: count_words-5adb6f56468c408396c88b0582285d14>, <Future: status: error, key: count_words-beac73a7b897451f6dfdd246ef46a35f>, <Future: status: error, key: count_words-8d94616287b0793731b2198126c3a68c>, <Future: status: finished, key: count_words-5364b4c638c2d1d95d3c253918f9e3e6>, <Future: status: error, key: count_words-a0bae134a369401c153b7abdcd687eb8>, <Future: status: finished, key: count_words-8bdec3f7b9020dbde4e5f9d0d7189bcc>, <Future: status: error, key: count_words-c361e1714d9c300c838f40548a87cd97>, <Future: status: error, key: count_words-d57a35bd921b22c3d7dc5b7557a0b9ff>, <Future: status: error, key: count_words-2a642d93111a18e3137e999d8a67c3ca>, <Future: status: finished, key: count_words-2b3c87755f71d649b874b1ca2a83e0d3>, <Future: status: error, key: count_words-446765671c7618b2bbf7cfc547fb3a55>, <Future: status: error, key: count_words-cb429fdb4ba4e00eb121f08647cd71ae>, <Future: status: finished, key: count_words-5c28a9e68727f2779203682b921b5e1c>, <Future: status: finished, key: count_words-eee0e3ddce7fa95b800873a0e3162803>, <Future: status: finished, key: count_words-3bac34303b7f9c3f71d536c223136598>, <Future: status: finished, key: count_words-2a64ec8e5cd83cfdb95c4bbe5cbebcfa>, <Future: status: finished, key: count_words-8662985cc6438810690ef508252c29ab>, <Future: status: finished, key: count_words-43bd237e9c2b5b21d9c58afc7a29d46f>, <Future: status: error, key: count_words-f55f4e849f43098c6b21d020c75c51e7>, <Future: status: finished, key: count_words-fd38f701a24409fb56f445f2ce6bc328>, <Future: status: finished, key: count_words-65b172ccab325b3b6fcb6520df6b7772>, <Future: status: error, key: count_words-f134900882d21f13f43658c35504585e>, <Future: status: finished, key: count_words-c64b3b1d4133559b6dbaf7e11c8e6725>, <Future: status: finished, key: count_words-0be90dbe3a7f04421c12b951f9884dc5>, <Future: status: error, key: count_words-67339dd274a1603f4a35e045e9a72837>, <Future: status: finished, key: count_words-89d466f12cc7b18a164789835be456c4>, <Future: status: finished, key: count_words-d65035895f4ce69db059622f73e965ac>, <Future: status: finished, key: count_words-4ea5377579fe7cbf0bed05803e6ba744>, <Future: status: error, key: count_words-b967457b09b80fed1b0f31227393a4b1>, <Future: status: finished, key: count_words-f2294d04c6988bce447955e1fb551667>, <Future: status: error, key: count_words-d4a7de5a39d9ca301e40e724b4b16a87>, <Future: status: finished, key: count_words-80385f06028419d6a569cb5e9879fe47>, <Future: status: error, key: count_words-3b87ff55459c23dbd25a92f5114734ff>, <Future: status: error, key: count_words-35c292d5690de86d25da24b4828ef306>, <Future: status: finished, key: count_words-8388179941a6fc79b58dfffabdf562dc>, <Future: status: finished, key: count_words-c0fbfbe7c4eb15db36a0d90c017eb176>, <Future: status: finished, key: count_words-27556cfd08753c4e815c3c735a7b13e3>, <Future: status: finished, key: count_words-afc75889580ce64dd0bafef7e4bd9d78>, <Future: status: finished, key: count_words-8ce11fe7b34ee1207b467e898d095708>, <Future: status: finished, key: count_words-94e50e26d018217cb6e23326237b83b0>, <Future: status: finished, key: count_words-4873dfccef9fb7ac2ff1bb7fcd4c0324>, <Future: status: finished, key: count_words-39b79ec13a02ccb41b4cad47a822e00a>, <Future: status: error, key: count_words-31ef847a3d2f6bb9bc73395c83f5b692>, <Future: status: finished, key: count_words-c7964bd2380ab145a209e07837549f7e>, <Future: status: finished, key: count_words-f4be670f22a3e37f666a0c9c610f1e73>, <Future: status: finished, key: count_words-c7320505274b85defceaf0789a8c8dff>, <Future: status: finished, key: count_words-a40f42fc828555f687e7b893729efa28>, <Future: status: finished, key: count_words-2d94ea0dab9250c6d88b4ecf2e714d78>, <Future: status: finished, key: count_words-6be5578b8396e5bcd4b2ec3c5d886ff3>, <Future: status: finished, key: count_words-e941ccff05d5a897393e8c261f1f6e42>, <Future: status: finished, key: count_words-767a7324f0eeb3a5158ba36d82138505>, <Future: status: error, key: count_words-8b4b37649a47de910b548c6292997c60>, <Future: status: finished, key: count_words-cf547ab14fa7e7c3d02527e0676278d4>, <Future: status: error, key: count_words-54ed9e6715d8844c9e9a592ce1690c8f>, <Future: status: finished, key: count_words-499be77501453c9423add698965ece8c>, <Future: status: finished, key: count_words-542cedfb0bab1dae74c06b57a82ecae7>, <Future: status: finished, key: count_words-092e034e73e859cdd6b3318853257e1c>, <Future: status: finished, key: count_words-a93831027a78bf3850d6bba39fa0662e>, <Future: status: error, key: count_words-300f5308d04bbc37cefaa4b8d065e4c9>, <Future: status: finished, key: count_words-8926d7160f322005c463bbe691272af4>, <Future: status: error, key: count_words-af195fde1394920d12029109b1735fbd>, <Future: status: error, key: count_words-77ea0d0c45297304706388aeed799568>, <Future: status: finished, key: count_words-297c58aedb212a30f8b3343712213e7c>, <Future: status: error, key: count_words-472b9ef9eb803be97458b88928cfd546>, <Future: status: finished, key: count_words-88419e2ea2ee6496b51a22975635ad2f>, <Future: status: finished, key: count_words-78b79a1faa7765059caf087849e8b640>}, not_done=set())"
      ]
     },
     "execution_count": 19,
     "metadata": {},
     "output_type": "execute_result"
    }
   ],
   "source": [
    "%%time\n",
    "wait(futures);"
   ]
  },
  {
   "cell_type": "code",
   "execution_count": 20,
   "metadata": {
    "collapsed": false
   },
   "outputs": [],
   "source": [
    "# Some of the tasks fail due to utf-8 formatting errors, we ignore the failed tasks\n",
    "futures_success = [x for x in futures if x.status == 'finished']"
   ]
  },
  {
   "cell_type": "code",
   "execution_count": 21,
   "metadata": {
    "collapsed": false,
    "scrolled": true
   },
   "outputs": [
    {
     "data": {
      "text/plain": [
       "[<Future: status: finished, key: count_words-bd731296fd7be686e9f2aa39d4e55b13>,\n",
       " <Future: status: finished, key: count_words-092e034e73e859cdd6b3318853257e1c>,\n",
       " <Future: status: finished, key: count_words-afc75889580ce64dd0bafef7e4bd9d78>,\n",
       " <Future: status: finished, key: count_words-a4ae70581908099cdf5d466a0e0dd3b9>,\n",
       " <Future: status: finished, key: count_words-dba948a37282190f54c4f50e5038d9d0>]"
      ]
     },
     "execution_count": 21,
     "metadata": {},
     "output_type": "execute_result"
    }
   ],
   "source": [
    "futures_success[:5]"
   ]
  },
  {
   "cell_type": "code",
   "execution_count": 22,
   "metadata": {
    "collapsed": false
   },
   "outputs": [
    {
     "data": {
      "text/plain": [
       "13099980"
      ]
     },
     "execution_count": 22,
     "metadata": {},
     "output_type": "execute_result"
    }
   ],
   "source": [
    "futures_success[0].result()"
   ]
  },
  {
   "cell_type": "code",
   "execution_count": 23,
   "metadata": {
    "collapsed": false
   },
   "outputs": [
    {
     "data": {
      "text/plain": [
       "363695216"
      ]
     },
     "execution_count": 23,
     "metadata": {},
     "output_type": "execute_result"
    }
   ],
   "source": [
    "sum(e.gather(futures_success))"
   ]
  },
  {
   "cell_type": "markdown",
   "metadata": {},
   "source": [
    "Notes and missing API functionality?\n",
    "\n",
    "* how to view number of workers/cores?\n",
    "* wanted to easily read .head() of large text file\n",
    "* can I pass arguments to functions in e.map(func, input)?\n",
    "* can I get the results of futures without a list comprehension, similar to an RDD?\n",
    "* why are the encoding errors happnening?\n",
    "* should blocking futures be default with an option to wait()?\n",
    "* are these errors from dscheduler important? https://gist.github.com/koverholt/6c0f9c10b23152c3f0c4\n",
    "* when to use readbytes, BytesIO, etc.\n",
    "* readbytes reads everything into memory vs. lazy execution?\n",
    "* option to drop failed futures?"
   ]
  },
  {
   "cell_type": "markdown",
   "metadata": {},
   "source": [
    "### Example 3) Word count with hdfs3 + distributed + dask"
   ]
  },
  {
   "cell_type": "code",
   "execution_count": 24,
   "metadata": {
    "collapsed": true
   },
   "outputs": [],
   "source": [
    "import dask"
   ]
  },
  {
   "cell_type": "markdown",
   "metadata": {},
   "source": [
    "Notes and missing API functionality?\n",
    "\n",
    "* wanted to easily read .head() of large text file\n",
    "* need a futures_to_bag"
   ]
  },
  {
   "cell_type": "markdown",
   "metadata": {},
   "source": [
    "### Results\n",
    "\n",
    "Time to count words in all files:\n",
    "\n",
    "* hdfs3 - 120 seconds\n",
    "* hdfs3 + distributed - 39 seconds\n",
    "* hdfs3 + distributed + dask - "
   ]
  }
 ],
 "metadata": {
  "kernelspec": {
   "display_name": "Python 3",
   "language": "python",
   "name": "python3"
  },
  "language_info": {
   "codemirror_mode": {
    "name": "ipython",
    "version": 3
   },
   "file_extension": ".py",
   "mimetype": "text/x-python",
   "name": "python",
   "nbconvert_exporter": "python",
   "pygments_lexer": "ipython3",
   "version": "3.5.1"
  }
 },
 "nbformat": 4,
 "nbformat_minor": 0
}
